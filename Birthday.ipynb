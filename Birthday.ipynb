{
 "cells": [
  {
   "cell_type": "code",
   "execution_count": 1,
   "metadata": {},
   "outputs": [
    {
     "name": "stdin",
     "output_type": "stream",
     "text": [
      "What is your name?  Ayden\n",
      "What is your birthdate (YYYY-MM-DD)?  2002-07-17\n"
     ]
    },
    {
     "name": "stdout",
     "output_type": "stream",
     "text": [
      "Hello, Ayden! You were born on July 17, 2002, so you are 20 years old.\n"
     ]
    }
   ],
   "source": [
    "import datetime\n",
    "\n",
    "name = input('What is your name? ')\n",
    "birthdate = input('What is your birthdate (YYYY-MM-DD)? ')\n",
    "\n",
    "try:\n",
    "    # Convert the birthdate string to a datetime object\n",
    "    birthdate = datetime.datetime.strptime(birthdate, '%Y-%m-%d')\n",
    "    # Calculate the user's age based on the current date\n",
    "    age = (datetime.datetime.now() - birthdate) // datetime.timedelta(days=365.25)\n",
    "    # Format the birthdate string as \"Month day, Year\" (e.g. \"January 1, 1990\")\n",
    "    birthdate = birthdate.strftime('%B %d, %Y')\n",
    "    print(f'Hello, {name}! You were born on {birthdate}, so you are {age} years old.')\n",
    "except ValueError:\n",
    "    print('Error: Please enter your birthdate in the format YYYY-MM-DD.')"
   ]
  }
 ],
 "metadata": {
  "kernelspec": {
   "display_name": "Python 3",
   "language": "python",
   "name": "python3"
  },
  "language_info": {
   "codemirror_mode": {
    "name": "ipython",
    "version": 3
   },
   "file_extension": ".py",
   "mimetype": "text/x-python",
   "name": "python",
   "nbconvert_exporter": "python",
   "pygments_lexer": "ipython3",
   "version": "3.8.3"
  }
 },
 "nbformat": 4,
 "nbformat_minor": 4
}
